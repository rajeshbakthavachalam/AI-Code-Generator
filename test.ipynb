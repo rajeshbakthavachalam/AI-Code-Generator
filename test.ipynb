{
 "cells": [
  {
   "cell_type": "code",
   "execution_count": 3,
   "metadata": {},
   "outputs": [
    {
     "name": "stdout",
     "output_type": "stream",
     "text": [
      "{'the': 2, 'owl': 1, 'for': 2, 'down': 1}\n"
     ]
    }
   ],
   "source": [
    "#python\n",
    "sentence = input(\"Enter a sentence: \")\n",
    "words = sentence.split()\n",
    "word_counts = {}\n",
    "\n",
    "for word in words:\n",
    "    if word in word_counts:\n",
    "        word_counts[word] += 1\n",
    "    else:\n",
    "        word_counts[word] = 1\n",
    "\n",
    "print(word_counts)\n"
   ]
  },
  {
   "cell_type": "code",
   "execution_count": null,
   "metadata": {},
   "outputs": [
    {
     "name": "stdout",
     "output_type": "stream",
     "text": [
      "Email is valid.\n"
     ]
    }
   ],
   "source": [
    "#Create a Python function to validate an email address using regex.\n",
    "import re\n",
    "\n",
    "def validate_email(email):\n",
    "    \"\"\"\n",
    "    Validates an email address using regular expressions.\n",
    "\n",
    "    Args:\n",
    "        email: The email address to validate.\n",
    "\n",
    "    Returns:\n",
    "        True if the email is valid, False otherwise.\n",
    "    \"\"\"\n",
    "\n",
    "    regex = r'^[a-zA-Z0-9_.+-]+@[a-zA-Z0-9-]+\\.[a-zA-Z]{2,6}$'\n",
    "\n",
    "    if re.match(regex, email):\n",
    "        return True\n",
    "    else:\n",
    "        return False\n",
    "\n",
    "email = \"john.doe@example.com\"\n",
    "valid = validate_email(email)\n",
    "\n",
    "if valid:\n",
    "    print(\"Email is valid.\")\n",
    "else:\n",
    "    print(\"Email is invalid.\")\n",
    "\n"
   ]
  },
  {
   "cell_type": "code",
   "execution_count": 8,
   "metadata": {},
   "outputs": [
    {
     "name": "stdout",
     "output_type": "stream",
     "text": [
      "Files renamed successfully!\n"
     ]
    }
   ],
   "source": [
    "#Write a Python script to rename all files in a folder based on their creation date\n",
    "\n",
    "import os\n",
    "from datetime import datetime\n",
    "\n",
    "# Specify the folder path\n",
    "folder_path = r\"C:\\Users\\rajes\\OneDrive\\Documents\\Personal\\Text_files\"\n",
    "\n",
    "# Get a list of all files in the folder\n",
    "files = os.listdir(folder_path)\n",
    "\n",
    "# Iterate through each file\n",
    "for filename in files:\n",
    "    # Get the full path of the file\n",
    "    file_path = os.path.join(folder_path, filename)\n",
    "\n",
    "    # Get the creation date of the file\n",
    "    creation_date = datetime.fromtimestamp(os.path.getctime(file_path))\n",
    "\n",
    "    # Format the creation date as a filename\n",
    "    new_filename = f\"{creation_date.strftime('%Y-%m-%d_%H-%M-%S')}_{filename}\"\n",
    "\n",
    "    # Rename the file\n",
    "    os.rename(file_path, os.path.join(folder_path, new_filename))\n",
    "\n",
    "print(\"Files renamed successfully!\")"
   ]
  },
  {
   "cell_type": "code",
   "execution_count": null,
   "metadata": {},
   "outputs": [],
   "source": [
    "#Build a to-do list app using Python and Tkinter.\n",
    "\n",
    "from tkinter import *\n",
    "\n",
    "# Define functions FIRST\n",
    "def add_task():\n",
    "    task = task_entry.get()\n",
    "    if task:  # Only add if the entry is not empty\n",
    "        task_list.insert(END, task)\n",
    "        task_entry.delete(0, END)  # Clear the entry box\n",
    "\n",
    "def delete_task():\n",
    "    try:\n",
    "        selected_task = task_list.curselection()[0]  # Get selected task index\n",
    "        task_list.delete(selected_task)\n",
    "    except IndexError:\n",
    "        pass  # Do nothing if no task is selected\n",
    "\n",
    "def mark_task_completed():\n",
    "    try:\n",
    "        selected_task = task_list.curselection()[0]\n",
    "        task_list.itemconfig(selected_task, {'fg': 'gray'})  # Gray out completed task\n",
    "    except IndexError:\n",
    "        pass  # Do nothing if no task is selected\n",
    "\n",
    "# Create the main window\n",
    "root = Tk()\n",
    "root.title(\"To-Do List App\")\n",
    "\n",
    "# Create widgets\n",
    "task_list = Listbox(root)\n",
    "task_list.pack()\n",
    "\n",
    "task_entry = Entry(root)\n",
    "task_entry.pack()\n",
    "\n",
    "# Buttons (now functions are defined above)\n",
    "add_button = Button(root, text=\"Add Task\", command=add_task)\n",
    "delete_button = Button(root, text=\"Delete Task\", command=delete_task)\n",
    "mark_completed_button = Button(root, text=\"Mark Completed\", command=mark_task_completed)\n",
    "\n",
    "# Pack buttons\n",
    "add_button.pack()\n",
    "delete_button.pack()\n",
    "mark_completed_button.pack()\n",
    "\n",
    "# Run the app\n",
    "root.mainloop()"
   ]
  },
  {
   "cell_type": "code",
   "execution_count": null,
   "metadata": {},
   "outputs": [
    {
     "name": "stdout",
     "output_type": "stream",
     "text": [
      "Error: 429\n"
     ]
    }
   ],
   "source": [
    "#Write a Python script to scrape the contents from a website using BeautifulSoup.\n",
    "from bs4 import BeautifulSoup\n",
    "import requests\n",
    "\n",
    "# Replace with the URL you want to scrape\n",
    "url = \"https://www.yahoo.com/\"\n",
    "\n",
    "# Send a GET request to the website\n",
    "response = requests.get(url)\n",
    "\n",
    "# Check if the request was successful\n",
    "if response.status_code == 200:\n",
    "    # Parse the HTML content\n",
    "    soup = BeautifulSoup(response.content, \"html.parser\")\n",
    "\n",
    "    # Find the elements you want to scrape\n",
    "    elements = soup.find_all(\"p\")  # Replace with the actual element you want to scrape\n",
    "\n",
    "    # Print the contents of the elements\n",
    "    for element in elements:\n",
    "        print(element.text)\n",
    "else:\n",
    "    print(f\"Error: {response.status_code}\")"
   ]
  }
 ],
 "metadata": {
  "kernelspec": {
   "display_name": "vnev",
   "language": "python",
   "name": "python3"
  },
  "language_info": {
   "codemirror_mode": {
    "name": "ipython",
    "version": 3
   },
   "file_extension": ".py",
   "mimetype": "text/x-python",
   "name": "python",
   "nbconvert_exporter": "python",
   "pygments_lexer": "ipython3",
   "version": "3.12.4"
  }
 },
 "nbformat": 4,
 "nbformat_minor": 2
}
